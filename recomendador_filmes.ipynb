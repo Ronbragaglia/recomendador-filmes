{
  "nbformat": 4,
  "nbformat_minor": 0,
  "metadata": {
    "colab": {
      "provenance": [],
      "authorship_tag": "ABX9TyP4wCXa/BEc3FIUe8O6NPNa",
      "include_colab_link": true
    },
    "kernelspec": {
      "name": "python3",
      "display_name": "Python 3"
    },
    "language_info": {
      "name": "python"
    }
  },
  "cells": [
    {
      "cell_type": "markdown",
      "metadata": {
        "id": "view-in-github",
        "colab_type": "text"
      },
      "source": [
        "<a href=\"https://colab.research.google.com/github/Ronbragaglia/recomendador-filmes/blob/main/recomendador_filmes.ipynb\" target=\"_parent\"><img src=\"https://colab.research.google.com/assets/colab-badge.svg\" alt=\"Open In Colab\"/></a>"
      ]
    },
    {
      "cell_type": "code",
      "source": [
        "\n",
        "import requests\n",
        "\n",
        "url_base = \"https://recomendador-filmes.onrender.com/\"\n",
        "\n",
        "response = requests.get(url_base)\n",
        "print(\"✅ Teste de Conexão:\")\n",
        "print(\"Status Code:\", response.status_code)\n",
        "print(\"Resposta:\", response.json())\n",
        "\n",
        "url_recommendations = url_base + \"recommendations/\"\n",
        "data = {\n",
        "    \"user_id\": 1,\n",
        "    \"num_recommendations\": 5\n",
        "}\n",
        "\n",
        "\n",
        "response = requests.post(url_recommendations, json=data)\n",
        "\n",
        "\n",
        "print(\"\\n🎬 Recomendação de Filmes:\")\n",
        "print(\"Status Code:\", response.status_code)\n",
        "\n",
        "try:\n",
        "    print(\"Recomendações:\", response.json())\n",
        "except requests.exceptions.JSONDecodeError:\n",
        "    print(\"⚠️ Erro ao tentar decodificar a resposta JSON\")\n"
      ],
      "metadata": {
        "colab": {
          "base_uri": "https://localhost:8080/"
        },
        "id": "yNaj-x-Vok_1",
        "outputId": "ca7a60bf-42f7-4904-ccd6-cd447a6cd0c5"
      },
      "execution_count": 7,
      "outputs": [
        {
          "output_type": "stream",
          "name": "stdout",
          "text": [
            "✅ Teste de Conexão:\n",
            "Status Code: 200\n",
            "Resposta: {'message': 'API funcionando corretamente!'}\n",
            "\n",
            "🎬 Recomendação de Filmes:\n",
            "Status Code: 200\n",
            "Recomendações: {'user_id': 1, 'recommendations': ['Filme 1', 'Filme 2', 'Filme 3', 'Filme 4', 'Filme 5']}\n"
          ]
        }
      ]
    },
    {
      "cell_type": "code",
      "source": [],
      "metadata": {
        "id": "h5XdEjGipxYC"
      },
      "execution_count": null,
      "outputs": []
    }
  ]
}